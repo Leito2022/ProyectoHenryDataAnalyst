{
  "nbformat": 4,
  "nbformat_minor": 0,
  "metadata": {
    "colab": {
      "provenance": [],
      "authorship_tag": "ABX9TyPZ99ii6GNBXjgeQoehqDOC",
      "include_colab_link": true
    },
    "kernelspec": {
      "name": "python3",
      "display_name": "Python 3"
    },
    "language_info": {
      "name": "python"
    }
  },
  "cells": [
    {
      "cell_type": "markdown",
      "metadata": {
        "id": "view-in-github",
        "colab_type": "text"
      },
      "source": [
        "<a href=\"https://colab.research.google.com/github/Leito2022/ProyectoHenryDataAnalyst/blob/main/EDA_proyectoHenry3.ipynb\" target=\"_parent\"><img src=\"https://colab.research.google.com/assets/colab-badge.svg\" alt=\"Open In Colab\"/></a>"
      ]
    },
    {
      "cell_type": "markdown",
      "source": [
        "# EDA Proyecto Individual N° 3 - Henry"
      ],
      "metadata": {
        "id": "oOH4XwgGB36B"
      }
    },
    {
      "cell_type": "markdown",
      "source": [
        "Autor: Rodríguez Jorge Leonardo\n",
        "Fecha de creación: 3/1/2023\n",
        "Fecha últ. actualización: 5/1/2023\n",
        "\n",
        "La idea preliminar de este trabajo es brindar información general de como está compuesta el ecosistema de servicio de internet en la Argentina. Para ello nos brindan el acceso a distintos datasets desde la pág. https://datosabiertos.enacom.gob.ar/dashboards/20000/acceso-a-internet/ y la posibilidad de acceder a datasets externos, en base a ello, en este informe se justifica la selección de los distintos datasets a la vez de que se explicita los cambios o modificaciones necesarias realizada en algunos de ellos. "
      ],
      "metadata": {
        "id": "KDlO4jXwB_Jj"
      }
    },
    {
      "cell_type": "markdown",
      "source": [
        "El objetivo final es lograr brindar información útil que permita tomar decisiones al lector, estas decisiones pueden ser tanto tomar estrategias para ingresar al mercado de las telecomunicaciones como no, como así tambien optar por recabar más información. \n"
      ],
      "metadata": {
        "id": "oYORl6pbfU8j"
      }
    },
    {
      "cell_type": "markdown",
      "source": [
        "El primer dataset a utilizar es Internet_Penetracion.csv, en el mismo explica la cantidad de accesos que hay al servicio de internet cada 100 hab, discriminado por provincia, año y trimestre. Es información básica para este informe así que no puede ser omitida. Al igual que muchas tablas que provienen de la pág arriba mencionada, trae una columna de año y trimestre pero no en formato fecha lo que complica su uso para generar medidas. Para ello, generaré una columna a partir de una función para que se añada la fecha correcta."
      ],
      "metadata": {
        "id": "jwVNz3EXf1Z3"
      }
    },
    {
      "cell_type": "markdown",
      "source": [
        "El segundo dataset a utilizar es Internet_ingresos, aquí muestra que tantos ingresos se ha generado desde el 2014 hasta el primer trimestre del 2022 en materia de accesos a internet. De por sí, esto esta información no resulta muy útil y podemos caer en la vanidad de sacar conclusiones que pueden estar erradas, analizar el contexto economico argentino es difícil y requiere un esfuerzo minuscioso de cada etapa y diversos agentes. Pero para efectos de este trabajo solo he elegido la inflación, por lo que por medio de datos del indec acceso a un dataset inflacion.csv que por sus características no es necesaria su limpieza o modificación en este archivo, será subido directamente a power bi."
      ],
      "metadata": {
        "id": "M-xwaTHROF2c"
      }
    },
    {
      "cell_type": "markdown",
      "source": [
        "El tercer dataset será Internet_Accesos-por-tecnologia.csv, posee los datos de las distintas tecnologías de acceso a internet y cuantas se contabilizan desde 2014 hasta el primer trimeestre de 2022, si la intención es ingresar en el mercado de las conexiones de internet es bueno saber las tendencias en cuanto a tecnología se refiere. Este dataset tiene algunas particularidades, algunos datos en las fechas vienen con aclaraciones lo que convierte a la columna en objet y no deja aplicar correctamente la función. Por ello, previamente tendrá una breve modificación, posteriormente los errores o resagos que queden serán eliminados en power bi dado que son un porcentaje pequeño (entre 1% a 4%)."
      ],
      "metadata": {
        "id": "OrU64slnR-Gw"
      }
    },
    {
      "cell_type": "markdown",
      "source": [
        "El cuarto dataset será historico_velocidad_internet.csv el mismo está muy relacionado con el anterior, y solo es utilizado a efectos de enfatizar el uso de nuevas tecnologías para brindar mejores servicios. Al igual que otras tablas se le aplica la funcion realizada\n"
      ],
      "metadata": {
        "id": "hQ1U6vnZUckT"
      }
    },
    {
      "cell_type": "markdown",
      "source": [
        "Los siguientes datasets no necesitan modificación o limpieza previa. Por lo que fueron subidos directamente a power bi. Estos tienen una relación estrecha y son:\n",
        "\n",
        "\n",
        "\n",
        "*   Reclamo_operador: Reclamos según proveedor\n",
        "*   Reclamo_tipo\n",
        "*   Reclamo_servicio\n",
        "\n",
        "Los tres fueron obtenidos de https://datosabiertos.enacom.gob.ar/dashboards/20003/denuncias-y-reclamos/\n",
        "y la idea detrás de esta elección es informar acerca de los problemas que potenciales que se generan de la relación cliente-proveedor, y a partir de ello sacar medidas necesarias para atenuarlas. Lamentablemente solo hay acceso a los reclamos realizados en el 2022, pero una investigación más a fondo podría llevar a complementar los años faltantes (desde 2014) y poder observar si hay una tendencia al alza o a la baja en los reclamos.\n",
        "\n",
        "\n",
        "\n"
      ],
      "metadata": {
        "id": "lcNMJQG2VdMb"
      }
    },
    {
      "cell_type": "markdown",
      "source": [
        "# Limpieza y transformación"
      ],
      "metadata": {
        "id": "xbrcbOWAv4QF"
      }
    },
    {
      "cell_type": "code",
      "execution_count": 1,
      "metadata": {
        "id": "aylBEtq3rVU1"
      },
      "outputs": [],
      "source": [
        "import pandas as pd\n",
        "import numpy as np"
      ]
    },
    {
      "cell_type": "markdown",
      "source": [
        "Voy a realizar una modificación en las tablas a usar para facilitar las relaciones entre la tabla calendario y las fechas de los dataframe, para ello agregaré una columna fecha que resultará de la aplicación de una función que según el año y el trimestre se configurará una fecha acorde para que power bi pueda relacionarlas sin problemas. El formato a usar será dd/mm/aaaa."
      ],
      "metadata": {
        "id": "EFeW8XUq1hxP"
      }
    },
    {
      "cell_type": "code",
      "source": [
        "#Creo la función que permitirá añadir una columna con la fecha nueva según año y trimestre.\n",
        "def fecha(dataframe):\n",
        "  año = dataframe[\"Año\"]\n",
        "\n",
        "  if dataframe[\"Trimestre\"] == 1:\n",
        "    return f\"1/1/{año}\"\n",
        "\n",
        "  elif dataframe[\"Trimestre\"] == 2:\n",
        "    return f\"1/4/{año}\"\n",
        "\n",
        "  elif dataframe[\"Trimestre\"] == 3:\n",
        "    return f\"1/7/{año}\"\n",
        "\n",
        "  elif dataframe[\"Trimestre\"] == 4:\n",
        "    return f\"1/10/{año}\"\n",
        "  \n"
      ],
      "metadata": {
        "id": "6SIghJyZr1XO"
      },
      "execution_count": 2,
      "outputs": []
    },
    {
      "cell_type": "code",
      "source": [
        "#Primer data set elegido\n",
        "df = pd.read_csv(\"Internet_Penetracion.csv\")"
      ],
      "metadata": {
        "id": "TF6gZePvraaC"
      },
      "execution_count": 4,
      "outputs": []
    },
    {
      "cell_type": "code",
      "source": [
        "df[\"Fecha\"] = df.apply(fecha,axis = 1)"
      ],
      "metadata": {
        "id": "DHXoYlTNtPE2"
      },
      "execution_count": 5,
      "outputs": []
    },
    {
      "cell_type": "code",
      "source": [
        "#Exporto para ser usado en Power bi\n",
        "df.to_csv(\"int_penet.csv\",index = False)"
      ],
      "metadata": {
        "id": "QMRZFXjYtrpr"
      },
      "execution_count": 16,
      "outputs": []
    },
    {
      "cell_type": "code",
      "source": [
        "#Segundo dataset usado \n",
        "df_1 = pd.read_csv(\"Internet_Ingresos.csv\")"
      ],
      "metadata": {
        "id": "5U_nLIto1gES"
      },
      "execution_count": 6,
      "outputs": []
    },
    {
      "cell_type": "code",
      "source": [
        "#Aplico la función (luego en power bi se descartarán las columnas no necesarias por ser redundantes)\n",
        "df_1[\"Fecha\"] = df_1.apply(fecha,axis = 1)\n"
      ],
      "metadata": {
        "id": "IWylA5J225Qf"
      },
      "execution_count": 7,
      "outputs": []
    },
    {
      "cell_type": "code",
      "source": [
        "#Exporto para ser usado en Power bi\n",
        "df_1.to_csv(\"int_ingresos.csv\",index = False)"
      ],
      "metadata": {
        "id": "U5AV1Ujz3VvK"
      },
      "execution_count": 8,
      "outputs": []
    },
    {
      "cell_type": "code",
      "source": [
        "#Tercer Dataset usado\n",
        "\n",
        "df_2 = pd.read_csv(\"Internet_Accesos-por-tecnologia.csv\")"
      ],
      "metadata": {
        "id": "NtGHVfQtMy2k"
      },
      "execution_count": 9,
      "outputs": []
    },
    {
      "cell_type": "code",
      "source": [
        "df_2.Trimestre.unique()"
      ],
      "metadata": {
        "colab": {
          "base_uri": "https://localhost:8080/"
        },
        "id": "96bS4qIINMOi",
        "outputId": "3efdcee3-733c-4d76-fec7-4e1f8d1aa735"
      },
      "execution_count": 23,
      "outputs": [
        {
          "output_type": "execute_result",
          "data": {
            "text/plain": [
              "array(['1', '4', '3', '2', ''], dtype=object)"
            ]
          },
          "metadata": {},
          "execution_count": 23
        }
      ]
    },
    {
      "cell_type": "code",
      "source": [
        "df_2[\"Año\"].replace(\"\\D\",\"\",regex = True, inplace= True)"
      ],
      "metadata": {
        "id": "smGCoa9_ujci"
      },
      "execution_count": 20,
      "outputs": []
    },
    {
      "cell_type": "code",
      "source": [
        "df_2[\"Trimestre\"].replace(\"\\D\",\"\",regex=True,inplace=True)"
      ],
      "metadata": {
        "id": "SA8MMY5vuv7u"
      },
      "execution_count": 22,
      "outputs": []
    },
    {
      "cell_type": "code",
      "source": [
        "df_2.drop(792, axis = 0, inplace= True)"
      ],
      "metadata": {
        "id": "8kB-B170yNQP"
      },
      "execution_count": 38,
      "outputs": []
    },
    {
      "cell_type": "code",
      "source": [
        "df_2[\"Trimestre\"]= df_2[\"Trimestre\"].astype(\"int\")\n"
      ],
      "metadata": {
        "id": "AofFz74YvXP_"
      },
      "execution_count": 39,
      "outputs": []
    },
    {
      "cell_type": "code",
      "source": [
        "#Aplico la función (luego en power bi se descartarán las columnas no necesarias por ser redundantes)\n",
        "\n",
        "df_2[\"Fecha\"] = df_2.apply(fecha,axis = 1)"
      ],
      "metadata": {
        "id": "TwZnUFBgNCBO"
      },
      "execution_count": 40,
      "outputs": []
    },
    {
      "cell_type": "code",
      "source": [
        "#Exporto para ser usado en Power bi\n",
        "df_2.to_csv(\"int_tecno.csv\",index = False)"
      ],
      "metadata": {
        "id": "osYNJhn7NVJL"
      },
      "execution_count": 42,
      "outputs": []
    },
    {
      "cell_type": "code",
      "source": [
        " #Cuarto dataset usado\n",
        "\n",
        " df_3 = pd.read_csv(\"historico_velocidad_internet.csv\")"
      ],
      "metadata": {
        "id": "V_toqC3Ffcwx"
      },
      "execution_count": 7,
      "outputs": []
    },
    {
      "cell_type": "code",
      "source": [
        "#Aplicamos la funcion\n",
        "\n",
        "df_3[\"Fecha\"] = df_3.apply(fecha,axis=1)"
      ],
      "metadata": {
        "id": "hwHB5Igd6xe4"
      },
      "execution_count": 8,
      "outputs": []
    },
    {
      "cell_type": "code",
      "source": [
        "#Exporto para ser usado en Power bi\n",
        "df_3.to_csv(\"int_vel.csv\",index = False)"
      ],
      "metadata": {
        "id": "osyl3uTN7Aeh"
      },
      "execution_count": 11,
      "outputs": []
    }
  ]
}